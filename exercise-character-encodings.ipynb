{
 "cells": [
  {
   "cell_type": "markdown",
   "id": "6e40e543",
   "metadata": {
    "papermill": {
     "duration": 0.019949,
     "end_time": "2022-05-03T12:05:05.067353",
     "exception": false,
     "start_time": "2022-05-03T12:05:05.047404",
     "status": "completed"
    },
    "tags": []
   },
   "source": [
    "**This notebook is an exercise in the [Data Cleaning](https://www.kaggle.com/learn/data-cleaning) course.  You can reference the tutorial at [this link](https://www.kaggle.com/alexisbcook/character-encodings).**\n",
    "\n",
    "---\n"
   ]
  },
  {
   "cell_type": "markdown",
   "id": "ec4c4926",
   "metadata": {
    "papermill": {
     "duration": 0.016464,
     "end_time": "2022-05-03T12:05:05.101966",
     "exception": false,
     "start_time": "2022-05-03T12:05:05.085502",
     "status": "completed"
    },
    "tags": []
   },
   "source": [
    "In this exercise, you'll apply what you learned in the **Character encodings** tutorial.\n",
    "\n",
    "# Setup\n",
    "\n",
    "The questions below will give you feedback on your work. Run the following cell to set up the feedback system."
   ]
  },
  {
   "cell_type": "code",
   "execution_count": 1,
   "id": "bc024144",
   "metadata": {
    "execution": {
     "iopub.execute_input": "2022-05-03T12:05:05.137720Z",
     "iopub.status.busy": "2022-05-03T12:05:05.137066Z",
     "iopub.status.idle": "2022-05-03T12:05:05.221543Z",
     "shell.execute_reply": "2022-05-03T12:05:05.220816Z"
    },
    "papermill": {
     "duration": 0.105166,
     "end_time": "2022-05-03T12:05:05.224016",
     "exception": false,
     "start_time": "2022-05-03T12:05:05.118850",
     "status": "completed"
    },
    "tags": []
   },
   "outputs": [
    {
     "name": "stdout",
     "output_type": "stream",
     "text": [
      "Setup Complete\n"
     ]
    }
   ],
   "source": [
    "from learntools.core import binder\n",
    "binder.bind(globals())\n",
    "from learntools.data_cleaning.ex4 import *\n",
    "print(\"Setup Complete\")"
   ]
  },
  {
   "cell_type": "markdown",
   "id": "b46e0ec6",
   "metadata": {
    "papermill": {
     "duration": 0.017036,
     "end_time": "2022-05-03T12:05:05.259335",
     "exception": false,
     "start_time": "2022-05-03T12:05:05.242299",
     "status": "completed"
    },
    "tags": []
   },
   "source": [
    "# Get our environment set up\n",
    "\n",
    "The first thing we'll need to do is load in the libraries we'll be using."
   ]
  },
  {
   "cell_type": "code",
   "execution_count": 2,
   "id": "7bfcb6f8",
   "metadata": {
    "execution": {
     "iopub.execute_input": "2022-05-03T12:05:05.295939Z",
     "iopub.status.busy": "2022-05-03T12:05:05.295162Z",
     "iopub.status.idle": "2022-05-03T12:05:05.300224Z",
     "shell.execute_reply": "2022-05-03T12:05:05.299518Z"
    },
    "papermill": {
     "duration": 0.025661,
     "end_time": "2022-05-03T12:05:05.302292",
     "exception": false,
     "start_time": "2022-05-03T12:05:05.276631",
     "status": "completed"
    },
    "tags": []
   },
   "outputs": [],
   "source": [
    "# modules we'll use\n",
    "import pandas as pd\n",
    "import numpy as np\n",
    "\n",
    "# helpful character encoding module\n",
    "import chardet\n",
    "\n",
    "# set seed for reproducibility\n",
    "np.random.seed(0)"
   ]
  },
  {
   "cell_type": "markdown",
   "id": "cff56b85",
   "metadata": {
    "papermill": {
     "duration": 0.01729,
     "end_time": "2022-05-03T12:05:05.337342",
     "exception": false,
     "start_time": "2022-05-03T12:05:05.320052",
     "status": "completed"
    },
    "tags": []
   },
   "source": [
    "# 1) What are encodings?\n",
    "\n",
    "You're working with a dataset composed of bytes.  Run the code cell below to print a sample entry."
   ]
  },
  {
   "cell_type": "code",
   "execution_count": 3,
   "id": "cda23d1c",
   "metadata": {
    "execution": {
     "iopub.execute_input": "2022-05-03T12:05:05.373798Z",
     "iopub.status.busy": "2022-05-03T12:05:05.373236Z",
     "iopub.status.idle": "2022-05-03T12:05:05.379202Z",
     "shell.execute_reply": "2022-05-03T12:05:05.378134Z"
    },
    "papermill": {
     "duration": 0.026393,
     "end_time": "2022-05-03T12:05:05.381134",
     "exception": false,
     "start_time": "2022-05-03T12:05:05.354741",
     "status": "completed"
    },
    "tags": []
   },
   "outputs": [
    {
     "name": "stdout",
     "output_type": "stream",
     "text": [
      "b'\\xa7A\\xa6n'\n",
      "data type: <class 'bytes'>\n"
     ]
    }
   ],
   "source": [
    "sample_entry = b'\\xa7A\\xa6n'\n",
    "print(sample_entry)\n",
    "print('data type:', type(sample_entry))"
   ]
  },
  {
   "cell_type": "markdown",
   "id": "9f6c9a04",
   "metadata": {
    "papermill": {
     "duration": 0.017092,
     "end_time": "2022-05-03T12:05:05.415722",
     "exception": false,
     "start_time": "2022-05-03T12:05:05.398630",
     "status": "completed"
    },
    "tags": []
   },
   "source": [
    "You notice that it doesn't use the standard UTF-8 encoding. \n",
    "\n",
    "Use the next code cell to create a variable `new_entry` that changes the encoding from `\"big5-tw\"` to `\"utf-8\"`.  `new_entry` should have the bytes datatype."
   ]
  },
  {
   "cell_type": "code",
   "execution_count": 4,
   "id": "ee3c50c6",
   "metadata": {
    "execution": {
     "iopub.execute_input": "2022-05-03T12:05:05.452504Z",
     "iopub.status.busy": "2022-05-03T12:05:05.451972Z",
     "iopub.status.idle": "2022-05-03T12:05:05.462853Z",
     "shell.execute_reply": "2022-05-03T12:05:05.462023Z"
    },
    "papermill": {
     "duration": 0.031554,
     "end_time": "2022-05-03T12:05:05.464874",
     "exception": false,
     "start_time": "2022-05-03T12:05:05.433320",
     "status": "completed"
    },
    "tags": []
   },
   "outputs": [
    {
     "data": {
      "application/javascript": [
       "parent.postMessage({\"jupyterEvent\": \"custom.exercise_interaction\", \"data\": {\"outcomeType\": 1, \"valueTowardsCompletion\": 0.3333333333333333, \"interactionType\": 1, \"questionType\": 1, \"questionId\": \"1_EncodingsIntro\", \"learnToolsVersion\": \"0.3.4\", \"failureMessage\": \"\", \"exceptionClass\": \"\", \"trace\": \"\"}}, \"*\")"
      ],
      "text/plain": [
       "<IPython.core.display.Javascript object>"
      ]
     },
     "metadata": {},
     "output_type": "display_data"
    },
    {
     "data": {
      "text/markdown": [
       "<span style=\"color:#33cc33\">Correct</span>"
      ],
      "text/plain": [
       "Correct"
      ]
     },
     "metadata": {},
     "output_type": "display_data"
    }
   ],
   "source": [
    "before = sample_entry.decode(\"big5-tw\")\n",
    "new_entry = before.encode()\n",
    "\n",
    "\n",
    "# Check your answer\n",
    "q1.check()"
   ]
  },
  {
   "cell_type": "code",
   "execution_count": 5,
   "id": "00a1d234",
   "metadata": {
    "execution": {
     "iopub.execute_input": "2022-05-03T12:05:05.503952Z",
     "iopub.status.busy": "2022-05-03T12:05:05.503348Z",
     "iopub.status.idle": "2022-05-03T12:05:05.507448Z",
     "shell.execute_reply": "2022-05-03T12:05:05.506623Z"
    },
    "papermill": {
     "duration": 0.026023,
     "end_time": "2022-05-03T12:05:05.509475",
     "exception": false,
     "start_time": "2022-05-03T12:05:05.483452",
     "status": "completed"
    },
    "tags": []
   },
   "outputs": [],
   "source": [
    "# Lines below will give you a hint or solution code\n",
    "#q1.hint()\n",
    "#q1.solution()"
   ]
  },
  {
   "cell_type": "markdown",
   "id": "9649c979",
   "metadata": {
    "papermill": {
     "duration": 0.018449,
     "end_time": "2022-05-03T12:05:05.547101",
     "exception": false,
     "start_time": "2022-05-03T12:05:05.528652",
     "status": "completed"
    },
    "tags": []
   },
   "source": [
    "# 2) Reading in files with encoding problems\n",
    "\n",
    "Use the code cell below to read in this file at path `\"../input/fatal-police-shootings-in-the-us/PoliceKillingsUS.csv\"`.  \n",
    "\n",
    "Figure out what the correct encoding should be and read in the file to a DataFrame `police_killings`."
   ]
  },
  {
   "cell_type": "code",
   "execution_count": 6,
   "id": "8265de62",
   "metadata": {
    "execution": {
     "iopub.execute_input": "2022-05-03T12:05:05.586161Z",
     "iopub.status.busy": "2022-05-03T12:05:05.585905Z",
     "iopub.status.idle": "2022-05-03T12:05:05.609398Z",
     "shell.execute_reply": "2022-05-03T12:05:05.608848Z"
    },
    "papermill": {
     "duration": 0.045722,
     "end_time": "2022-05-03T12:05:05.611506",
     "exception": false,
     "start_time": "2022-05-03T12:05:05.565784",
     "status": "completed"
    },
    "tags": []
   },
   "outputs": [
    {
     "data": {
      "application/javascript": [
       "parent.postMessage({\"jupyterEvent\": \"custom.exercise_interaction\", \"data\": {\"outcomeType\": 1, \"valueTowardsCompletion\": 0.3333333333333333, \"interactionType\": 1, \"questionType\": 1, \"questionId\": \"2_ReadIn\", \"learnToolsVersion\": \"0.3.4\", \"failureMessage\": \"\", \"exceptionClass\": \"\", \"trace\": \"\"}}, \"*\")"
      ],
      "text/plain": [
       "<IPython.core.display.Javascript object>"
      ]
     },
     "metadata": {},
     "output_type": "display_data"
    },
    {
     "data": {
      "text/markdown": [
       "<span style=\"color:#33cc33\">Correct</span>"
      ],
      "text/plain": [
       "Correct"
      ]
     },
     "metadata": {},
     "output_type": "display_data"
    }
   ],
   "source": [
    "# TODO: Load in the DataFrame correctly.\n",
    "police_killings = pd.read_csv(\"../input/fatal-police-shootings-in-the-us/PoliceKillingsUS.csv\", encoding='Windows-1252')\n",
    "\n",
    "# Check your answer\n",
    "q2.check()"
   ]
  },
  {
   "cell_type": "markdown",
   "id": "101998a6",
   "metadata": {
    "papermill": {
     "duration": 0.021242,
     "end_time": "2022-05-03T12:05:05.652785",
     "exception": false,
     "start_time": "2022-05-03T12:05:05.631543",
     "status": "completed"
    },
    "tags": []
   },
   "source": [
    "Feel free to use any additional code cells for supplemental work.  To get credit for finishing this question, you'll need to run `q2.check()` and get a result of **Correct**."
   ]
  },
  {
   "cell_type": "code",
   "execution_count": 7,
   "id": "d352eb12",
   "metadata": {
    "execution": {
     "iopub.execute_input": "2022-05-03T12:05:05.694730Z",
     "iopub.status.busy": "2022-05-03T12:05:05.694227Z",
     "iopub.status.idle": "2022-05-03T12:05:05.698212Z",
     "shell.execute_reply": "2022-05-03T12:05:05.697466Z"
    },
    "papermill": {
     "duration": 0.02684,
     "end_time": "2022-05-03T12:05:05.699951",
     "exception": false,
     "start_time": "2022-05-03T12:05:05.673111",
     "status": "completed"
    },
    "tags": []
   },
   "outputs": [],
   "source": [
    "# (Optional) Use this code cell for any additional work."
   ]
  },
  {
   "cell_type": "code",
   "execution_count": 8,
   "id": "20c9882c",
   "metadata": {
    "execution": {
     "iopub.execute_input": "2022-05-03T12:05:05.743298Z",
     "iopub.status.busy": "2022-05-03T12:05:05.742329Z",
     "iopub.status.idle": "2022-05-03T12:05:05.746787Z",
     "shell.execute_reply": "2022-05-03T12:05:05.745986Z"
    },
    "papermill": {
     "duration": 0.027851,
     "end_time": "2022-05-03T12:05:05.748826",
     "exception": false,
     "start_time": "2022-05-03T12:05:05.720975",
     "status": "completed"
    },
    "tags": []
   },
   "outputs": [],
   "source": [
    "# Lines below will give you a hint or solution code\n",
    "#q2.hint()\n",
    "#q2.solution()"
   ]
  },
  {
   "cell_type": "markdown",
   "id": "d2c866b8",
   "metadata": {
    "papermill": {
     "duration": 0.019812,
     "end_time": "2022-05-03T12:05:05.788887",
     "exception": false,
     "start_time": "2022-05-03T12:05:05.769075",
     "status": "completed"
    },
    "tags": []
   },
   "source": [
    "# 3) Saving your files with UTF-8 encoding\n",
    "\n",
    "Save a version of the police killings dataset to CSV with UTF-8 encoding.  Your answer will be marked correct after saving this file.  \n",
    "\n",
    "Note: When using the `to_csv()` method, supply only the name of the file (e.g., `\"my_file.csv\"`).  This saves the file at the filepath `\"/kaggle/working/my_file.csv\"`."
   ]
  },
  {
   "cell_type": "code",
   "execution_count": 9,
   "id": "2ee2989d",
   "metadata": {
    "execution": {
     "iopub.execute_input": "2022-05-03T12:05:05.831818Z",
     "iopub.status.busy": "2022-05-03T12:05:05.831003Z",
     "iopub.status.idle": "2022-05-03T12:05:05.872477Z",
     "shell.execute_reply": "2022-05-03T12:05:05.871946Z"
    },
    "papermill": {
     "duration": 0.065167,
     "end_time": "2022-05-03T12:05:05.874340",
     "exception": false,
     "start_time": "2022-05-03T12:05:05.809173",
     "status": "completed"
    },
    "tags": []
   },
   "outputs": [
    {
     "data": {
      "application/javascript": [
       "parent.postMessage({\"jupyterEvent\": \"custom.exercise_interaction\", \"data\": {\"outcomeType\": 1, \"valueTowardsCompletion\": 0.3333333333333333, \"interactionType\": 1, \"questionType\": 2, \"questionId\": \"3_SaveCSV\", \"learnToolsVersion\": \"0.3.4\", \"failureMessage\": \"\", \"exceptionClass\": \"\", \"trace\": \"\"}}, \"*\")"
      ],
      "text/plain": [
       "<IPython.core.display.Javascript object>"
      ]
     },
     "metadata": {},
     "output_type": "display_data"
    },
    {
     "data": {
      "text/markdown": [
       "<span style=\"color:#33cc33\">Correct</span>"
      ],
      "text/plain": [
       "Correct"
      ]
     },
     "metadata": {},
     "output_type": "display_data"
    }
   ],
   "source": [
    "# TODO: Save the police killings dataset to CSV\n",
    "____\n",
    "police_killings.to_csv(\"my_file.csv\")\n",
    "# Check your answer\n",
    "q3.check()"
   ]
  },
  {
   "cell_type": "code",
   "execution_count": 10,
   "id": "93619cc4",
   "metadata": {
    "execution": {
     "iopub.execute_input": "2022-05-03T12:05:05.919606Z",
     "iopub.status.busy": "2022-05-03T12:05:05.919035Z",
     "iopub.status.idle": "2022-05-03T12:05:05.922197Z",
     "shell.execute_reply": "2022-05-03T12:05:05.921598Z"
    },
    "papermill": {
     "duration": 0.027911,
     "end_time": "2022-05-03T12:05:05.924115",
     "exception": false,
     "start_time": "2022-05-03T12:05:05.896204",
     "status": "completed"
    },
    "tags": []
   },
   "outputs": [],
   "source": [
    "# Lines below will give you a hint or solution code\n",
    "#q3.hint()\n",
    "#q3.solution()"
   ]
  },
  {
   "cell_type": "markdown",
   "id": "dad2c456",
   "metadata": {
    "papermill": {
     "duration": 0.020914,
     "end_time": "2022-05-03T12:05:05.966317",
     "exception": false,
     "start_time": "2022-05-03T12:05:05.945403",
     "status": "completed"
    },
    "tags": []
   },
   "source": [
    "# (Optional) More practice\n",
    "\n",
    "Check out [this dataset of files in different character encodings](https://www.kaggle.com/rtatman/character-encoding-examples). Can you read in all the files with their original encodings and them save them out as UTF-8 files?\n",
    "\n",
    "If you have a file that's in UTF-8 but has just a couple of weird-looking characters in it, you can try out the [ftfy module](https://ftfy.readthedocs.io/en/latest/#) and see if it helps. \n",
    "\n",
    "# Keep going\n",
    "\n",
    "In the final lesson, learn how to [**clean up inconsistent text entries**](https://www.kaggle.com/alexisbcook/inconsistent-data-entry) in your dataset."
   ]
  },
  {
   "cell_type": "markdown",
   "id": "f5479341",
   "metadata": {
    "papermill": {
     "duration": 0.020842,
     "end_time": "2022-05-03T12:05:06.008495",
     "exception": false,
     "start_time": "2022-05-03T12:05:05.987653",
     "status": "completed"
    },
    "tags": []
   },
   "source": [
    "---\n",
    "\n",
    "\n",
    "\n",
    "\n",
    "*Have questions or comments? Visit the [course discussion forum](https://www.kaggle.com/learn/data-cleaning/discussion) to chat with other learners.*"
   ]
  }
 ],
 "metadata": {
  "kernelspec": {
   "display_name": "Python 3",
   "language": "python",
   "name": "python3"
  },
  "language_info": {
   "codemirror_mode": {
    "name": "ipython",
    "version": 3
   },
   "file_extension": ".py",
   "mimetype": "text/x-python",
   "name": "python",
   "nbconvert_exporter": "python",
   "pygments_lexer": "ipython3",
   "version": "3.7.12"
  },
  "papermill": {
   "default_parameters": {},
   "duration": 11.612699,
   "end_time": "2022-05-03T12:05:06.649307",
   "environment_variables": {},
   "exception": null,
   "input_path": "__notebook__.ipynb",
   "output_path": "__notebook__.ipynb",
   "parameters": {},
   "start_time": "2022-05-03T12:04:55.036608",
   "version": "2.3.4"
  }
 },
 "nbformat": 4,
 "nbformat_minor": 5
}
