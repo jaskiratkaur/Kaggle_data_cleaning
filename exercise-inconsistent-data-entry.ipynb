{
 "cells": [
  {
   "cell_type": "markdown",
   "id": "8225c8a3",
   "metadata": {
    "papermill": {
     "duration": 0.020657,
     "end_time": "2022-05-03T12:10:59.924131",
     "exception": false,
     "start_time": "2022-05-03T12:10:59.903474",
     "status": "completed"
    },
    "tags": []
   },
   "source": [
    "**This notebook is an exercise in the [Data Cleaning](https://www.kaggle.com/learn/data-cleaning) course.  You can reference the tutorial at [this link](https://www.kaggle.com/alexisbcook/inconsistent-data-entry).**\n",
    "\n",
    "---\n"
   ]
  },
  {
   "cell_type": "markdown",
   "id": "807ada89",
   "metadata": {
    "papermill": {
     "duration": 0.018075,
     "end_time": "2022-05-03T12:10:59.960805",
     "exception": false,
     "start_time": "2022-05-03T12:10:59.942730",
     "status": "completed"
    },
    "tags": []
   },
   "source": [
    "In this exercise, you'll apply what you learned in the **Inconsistent data entry** tutorial.\n",
    "\n",
    "# Setup\n",
    "\n",
    "The questions below will give you feedback on your work. Run the following cell to set up the feedback system."
   ]
  },
  {
   "cell_type": "code",
   "execution_count": 1,
   "id": "08ba1df2",
   "metadata": {
    "execution": {
     "iopub.execute_input": "2022-05-03T12:11:00.000057Z",
     "iopub.status.busy": "2022-05-03T12:10:59.999644Z",
     "iopub.status.idle": "2022-05-03T12:11:00.108961Z",
     "shell.execute_reply": "2022-05-03T12:11:00.107759Z"
    },
    "papermill": {
     "duration": 0.132086,
     "end_time": "2022-05-03T12:11:00.111377",
     "exception": false,
     "start_time": "2022-05-03T12:10:59.979291",
     "status": "completed"
    },
    "tags": []
   },
   "outputs": [
    {
     "name": "stdout",
     "output_type": "stream",
     "text": [
      "Setup Complete\n"
     ]
    }
   ],
   "source": [
    "from learntools.core import binder\n",
    "binder.bind(globals())\n",
    "from learntools.data_cleaning.ex5 import *\n",
    "print(\"Setup Complete\")"
   ]
  },
  {
   "cell_type": "markdown",
   "id": "43f66214",
   "metadata": {
    "papermill": {
     "duration": 0.018802,
     "end_time": "2022-05-03T12:11:00.150322",
     "exception": false,
     "start_time": "2022-05-03T12:11:00.131520",
     "status": "completed"
    },
    "tags": []
   },
   "source": [
    "# Get our environment set up\n",
    "\n",
    "The first thing we'll need to do is load in the libraries and dataset we'll be using.  We use the same dataset from the tutorial."
   ]
  },
  {
   "cell_type": "code",
   "execution_count": 2,
   "id": "278eaff0",
   "metadata": {
    "execution": {
     "iopub.execute_input": "2022-05-03T12:11:00.190544Z",
     "iopub.status.busy": "2022-05-03T12:11:00.190172Z",
     "iopub.status.idle": "2022-05-03T12:11:00.207496Z",
     "shell.execute_reply": "2022-05-03T12:11:00.206683Z"
    },
    "papermill": {
     "duration": 0.040631,
     "end_time": "2022-05-03T12:11:00.209870",
     "exception": false,
     "start_time": "2022-05-03T12:11:00.169239",
     "status": "completed"
    },
    "tags": []
   },
   "outputs": [],
   "source": [
    "# modules we'll use\n",
    "import pandas as pd\n",
    "import numpy as np\n",
    "\n",
    "# helpful modules\n",
    "import fuzzywuzzy\n",
    "from fuzzywuzzy import process\n",
    "import chardet\n",
    "\n",
    "# read in all our data\n",
    "professors = pd.read_csv(\"../input/pakistan-intellectual-capital/pakistan_intellectual_capital.csv\")\n",
    "\n",
    "# set seed for reproducibility\n",
    "np.random.seed(0)"
   ]
  },
  {
   "cell_type": "markdown",
   "id": "80a6c6d9",
   "metadata": {
    "papermill": {
     "duration": 0.018574,
     "end_time": "2022-05-03T12:11:00.248342",
     "exception": false,
     "start_time": "2022-05-03T12:11:00.229768",
     "status": "completed"
    },
    "tags": []
   },
   "source": [
    "Next, we'll redo all of the work that we did in the tutorial."
   ]
  },
  {
   "cell_type": "code",
   "execution_count": 3,
   "id": "9b751d70",
   "metadata": {
    "execution": {
     "iopub.execute_input": "2022-05-03T12:11:00.288591Z",
     "iopub.status.busy": "2022-05-03T12:11:00.288289Z",
     "iopub.status.idle": "2022-05-03T12:11:00.304773Z",
     "shell.execute_reply": "2022-05-03T12:11:00.304091Z"
    },
    "papermill": {
     "duration": 0.039128,
     "end_time": "2022-05-03T12:11:00.306976",
     "exception": false,
     "start_time": "2022-05-03T12:11:00.267848",
     "status": "completed"
    },
    "tags": []
   },
   "outputs": [
    {
     "name": "stdout",
     "output_type": "stream",
     "text": [
      "All done!\n"
     ]
    }
   ],
   "source": [
    "# convert to lower case\n",
    "professors['Country'] = professors['Country'].str.lower()\n",
    "# remove trailing white spaces\n",
    "professors['Country'] = professors['Country'].str.strip()\n",
    "\n",
    "# get the top 10 closest matches to \"south korea\"\n",
    "countries = professors['Country'].unique()\n",
    "matches = fuzzywuzzy.process.extract(\"south korea\", countries, limit=10, scorer=fuzzywuzzy.fuzz.token_sort_ratio)\n",
    "\n",
    "def replace_matches_in_column(df, column, string_to_match, min_ratio = 47):\n",
    "    # get a list of unique strings\n",
    "    strings = df[column].unique()\n",
    "    \n",
    "    # get the top 10 closest matches to our input string\n",
    "    matches = fuzzywuzzy.process.extract(string_to_match, strings, \n",
    "                                         limit=10, scorer=fuzzywuzzy.fuzz.token_sort_ratio)\n",
    "\n",
    "    # only get matches with a ratio > 90\n",
    "    close_matches = [matches[0] for matches in matches if matches[1] >= min_ratio]\n",
    "\n",
    "    # get the rows of all the close matches in our dataframe\n",
    "    rows_with_matches = df[column].isin(close_matches)\n",
    "\n",
    "    # replace all rows with close matches with the input matches \n",
    "    df.loc[rows_with_matches, column] = string_to_match\n",
    "    \n",
    "    # let us know the function's done\n",
    "    print(\"All done!\")\n",
    "    \n",
    "replace_matches_in_column(df=professors, column='Country', string_to_match=\"south korea\")\n",
    "countries = professors['Country'].unique()"
   ]
  },
  {
   "cell_type": "markdown",
   "id": "c8548273",
   "metadata": {
    "papermill": {
     "duration": 0.019299,
     "end_time": "2022-05-03T12:11:00.345607",
     "exception": false,
     "start_time": "2022-05-03T12:11:00.326308",
     "status": "completed"
    },
    "tags": []
   },
   "source": [
    "# 1) Examine another column\n",
    "\n",
    "Write code below to take a look at all the unique values in the \"Graduated from\" column."
   ]
  },
  {
   "cell_type": "code",
   "execution_count": 4,
   "id": "fe1075af",
   "metadata": {
    "execution": {
     "iopub.execute_input": "2022-05-03T12:11:00.386330Z",
     "iopub.status.busy": "2022-05-03T12:11:00.385697Z",
     "iopub.status.idle": "2022-05-03T12:11:00.390469Z",
     "shell.execute_reply": "2022-05-03T12:11:00.389555Z"
    },
    "papermill": {
     "duration": 0.027336,
     "end_time": "2022-05-03T12:11:00.392331",
     "exception": false,
     "start_time": "2022-05-03T12:11:00.364995",
     "status": "completed"
    },
    "tags": []
   },
   "outputs": [],
   "source": [
    "# TODO: Your code here\n",
    "unis = professors['Graduated from'].unique()"
   ]
  },
  {
   "cell_type": "markdown",
   "id": "9b9189fa",
   "metadata": {
    "papermill": {
     "duration": 0.01876,
     "end_time": "2022-05-03T12:11:00.430207",
     "exception": false,
     "start_time": "2022-05-03T12:11:00.411447",
     "status": "completed"
    },
    "tags": []
   },
   "source": [
    "Do you notice any inconsistencies in the data?  Can any of the inconsistencies in the data be fixed by removing white spaces at the beginning and end of cells?\n",
    "\n",
    "Once you have answered these questions, run the code cell below to get credit for your work."
   ]
  },
  {
   "cell_type": "code",
   "execution_count": 5,
   "id": "58afd932",
   "metadata": {
    "execution": {
     "iopub.execute_input": "2022-05-03T12:11:00.471423Z",
     "iopub.status.busy": "2022-05-03T12:11:00.471121Z",
     "iopub.status.idle": "2022-05-03T12:11:00.482573Z",
     "shell.execute_reply": "2022-05-03T12:11:00.481475Z"
    },
    "papermill": {
     "duration": 0.034844,
     "end_time": "2022-05-03T12:11:00.484673",
     "exception": false,
     "start_time": "2022-05-03T12:11:00.449829",
     "status": "completed"
    },
    "tags": []
   },
   "outputs": [
    {
     "data": {
      "application/javascript": [
       "parent.postMessage({\"jupyterEvent\": \"custom.exercise_interaction\", \"data\": {\"outcomeType\": 1, \"valueTowardsCompletion\": 0.3333333333333333, \"interactionType\": 1, \"questionType\": 4, \"questionId\": \"1_ExamineProvince\", \"learnToolsVersion\": \"0.3.4\", \"failureMessage\": \"\", \"exceptionClass\": \"\", \"trace\": \"\"}}, \"*\")"
      ],
      "text/plain": [
       "<IPython.core.display.Javascript object>"
      ]
     },
     "metadata": {},
     "output_type": "display_data"
    },
    {
     "data": {
      "text/markdown": [
       "<span style=\"color:#33cc33\">Correct:</span> \n",
       "\n",
       "There are inconsistencies that can be fixed by removing white spaces at the beginning and end of cells.  For instance, \"University of Central Florida\" and \" University of Central Florida\" both appear in the column."
      ],
      "text/plain": [
       "Correct: \n",
       "\n",
       "There are inconsistencies that can be fixed by removing white spaces at the beginning and end of cells.  For instance, \"University of Central Florida\" and \" University of Central Florida\" both appear in the column."
      ]
     },
     "metadata": {},
     "output_type": "display_data"
    }
   ],
   "source": [
    "# Check your answer (Run this code cell to receive credit!)\n",
    "q1.check()"
   ]
  },
  {
   "cell_type": "code",
   "execution_count": 6,
   "id": "333c5849",
   "metadata": {
    "execution": {
     "iopub.execute_input": "2022-05-03T12:11:00.528074Z",
     "iopub.status.busy": "2022-05-03T12:11:00.527687Z",
     "iopub.status.idle": "2022-05-03T12:11:00.532296Z",
     "shell.execute_reply": "2022-05-03T12:11:00.531254Z"
    },
    "papermill": {
     "duration": 0.029236,
     "end_time": "2022-05-03T12:11:00.534578",
     "exception": false,
     "start_time": "2022-05-03T12:11:00.505342",
     "status": "completed"
    },
    "tags": []
   },
   "outputs": [],
   "source": [
    "# Line below will give you a hint\n",
    "#q1.hint()"
   ]
  },
  {
   "cell_type": "markdown",
   "id": "fed4eb76",
   "metadata": {
    "papermill": {
     "duration": 0.02018,
     "end_time": "2022-05-03T12:11:00.577223",
     "exception": false,
     "start_time": "2022-05-03T12:11:00.557043",
     "status": "completed"
    },
    "tags": []
   },
   "source": [
    "# 2) Do some text pre-processing\n",
    "\n",
    "Convert every entry in the \"Graduated from\" column in the `professors` DataFrame to remove white spaces at the beginning and end of cells."
   ]
  },
  {
   "cell_type": "code",
   "execution_count": 7,
   "id": "7c29d6d5",
   "metadata": {
    "execution": {
     "iopub.execute_input": "2022-05-03T12:11:00.620328Z",
     "iopub.status.busy": "2022-05-03T12:11:00.619935Z",
     "iopub.status.idle": "2022-05-03T12:11:00.633783Z",
     "shell.execute_reply": "2022-05-03T12:11:00.633161Z"
    },
    "papermill": {
     "duration": 0.037881,
     "end_time": "2022-05-03T12:11:00.635705",
     "exception": false,
     "start_time": "2022-05-03T12:11:00.597824",
     "status": "completed"
    },
    "tags": []
   },
   "outputs": [
    {
     "data": {
      "application/javascript": [
       "parent.postMessage({\"jupyterEvent\": \"custom.exercise_interaction\", \"data\": {\"outcomeType\": 1, \"valueTowardsCompletion\": 0.3333333333333333, \"interactionType\": 1, \"questionType\": 1, \"questionId\": \"2_TextProcessing\", \"learnToolsVersion\": \"0.3.4\", \"failureMessage\": \"\", \"exceptionClass\": \"\", \"trace\": \"\"}}, \"*\")"
      ],
      "text/plain": [
       "<IPython.core.display.Javascript object>"
      ]
     },
     "metadata": {},
     "output_type": "display_data"
    },
    {
     "data": {
      "text/markdown": [
       "<span style=\"color:#33cc33\">Correct</span>"
      ],
      "text/plain": [
       "Correct"
      ]
     },
     "metadata": {},
     "output_type": "display_data"
    }
   ],
   "source": [
    "# TODO: Your code here\n",
    "____\n",
    "professors['Graduated from'] = professors['Graduated from'].str.strip()\n",
    "\n",
    "# Check your answer\n",
    "q2.check()"
   ]
  },
  {
   "cell_type": "code",
   "execution_count": 8,
   "id": "12006d4a",
   "metadata": {
    "execution": {
     "iopub.execute_input": "2022-05-03T12:11:00.682087Z",
     "iopub.status.busy": "2022-05-03T12:11:00.681748Z",
     "iopub.status.idle": "2022-05-03T12:11:00.685926Z",
     "shell.execute_reply": "2022-05-03T12:11:00.685054Z"
    },
    "papermill": {
     "duration": 0.029982,
     "end_time": "2022-05-03T12:11:00.687919",
     "exception": false,
     "start_time": "2022-05-03T12:11:00.657937",
     "status": "completed"
    },
    "tags": []
   },
   "outputs": [],
   "source": [
    "# Lines below will give you a hint or solution code\n",
    "#q2.hint()\n",
    "#q2.solution()"
   ]
  },
  {
   "cell_type": "markdown",
   "id": "d38f4af0",
   "metadata": {
    "papermill": {
     "duration": 0.022026,
     "end_time": "2022-05-03T12:11:00.731849",
     "exception": false,
     "start_time": "2022-05-03T12:11:00.709823",
     "status": "completed"
    },
    "tags": []
   },
   "source": [
    "# 3) Continue working with countries\n",
    "\n",
    "In the tutorial, we focused on cleaning up inconsistencies in the \"Country\" column.  Run the code cell below to view the list of unique values that we ended with."
   ]
  },
  {
   "cell_type": "code",
   "execution_count": 9,
   "id": "e9741e86",
   "metadata": {
    "execution": {
     "iopub.execute_input": "2022-05-03T12:11:00.777968Z",
     "iopub.status.busy": "2022-05-03T12:11:00.777372Z",
     "iopub.status.idle": "2022-05-03T12:11:00.785038Z",
     "shell.execute_reply": "2022-05-03T12:11:00.784171Z"
    },
    "papermill": {
     "duration": 0.033218,
     "end_time": "2022-05-03T12:11:00.786979",
     "exception": false,
     "start_time": "2022-05-03T12:11:00.753761",
     "status": "completed"
    },
    "tags": []
   },
   "outputs": [
    {
     "data": {
      "text/plain": [
       "array(['australia', 'austria', 'canada', 'china', 'finland', 'france',\n",
       "       'germany', 'greece', 'hongkong', 'ireland', 'italy', 'japan',\n",
       "       'macau', 'malaysia', 'mauritius', 'netherland', 'new zealand',\n",
       "       'norway', 'pakistan', 'portugal', 'russian federation',\n",
       "       'saudi arabia', 'scotland', 'singapore', 'south korea', 'spain',\n",
       "       'sweden', 'thailand', 'turkey', 'uk', 'urbana', 'usa', 'usofa'],\n",
       "      dtype=object)"
      ]
     },
     "execution_count": 9,
     "metadata": {},
     "output_type": "execute_result"
    }
   ],
   "source": [
    "# get all the unique values in the 'City' column\n",
    "countries = professors['Country'].unique()\n",
    "\n",
    "# sort them alphabetically and then take a closer look\n",
    "countries.sort()\n",
    "countries"
   ]
  },
  {
   "cell_type": "markdown",
   "id": "962f51f3",
   "metadata": {
    "papermill": {
     "duration": 0.022083,
     "end_time": "2022-05-03T12:11:00.831450",
     "exception": false,
     "start_time": "2022-05-03T12:11:00.809367",
     "status": "completed"
    },
    "tags": []
   },
   "source": [
    "Take another look at the \"Country\" column and see if there's any more data cleaning we need to do.\n",
    "\n",
    "It looks like 'usa' and 'usofa' should be the same country.  Correct the \"Country\" column in the dataframe to replace 'usofa' with 'usa'.\n",
    "\n",
    "**Use the most recent version of the DataFrame (with the whitespaces at the beginning and end of cells removed) from question 2.**"
   ]
  },
  {
   "cell_type": "code",
   "execution_count": 10,
   "id": "abe06967",
   "metadata": {
    "execution": {
     "iopub.execute_input": "2022-05-03T12:11:00.878317Z",
     "iopub.status.busy": "2022-05-03T12:11:00.877695Z",
     "iopub.status.idle": "2022-05-03T12:11:00.891790Z",
     "shell.execute_reply": "2022-05-03T12:11:00.890946Z"
    },
    "papermill": {
     "duration": 0.039862,
     "end_time": "2022-05-03T12:11:00.893763",
     "exception": false,
     "start_time": "2022-05-03T12:11:00.853901",
     "status": "completed"
    },
    "tags": []
   },
   "outputs": [
    {
     "name": "stdout",
     "output_type": "stream",
     "text": [
      "All done!\n"
     ]
    },
    {
     "data": {
      "application/javascript": [
       "parent.postMessage({\"jupyterEvent\": \"custom.exercise_interaction\", \"data\": {\"outcomeType\": 1, \"valueTowardsCompletion\": 0.3333333333333333, \"interactionType\": 1, \"questionType\": 1, \"questionId\": \"3_WorkingWithCities\", \"learnToolsVersion\": \"0.3.4\", \"failureMessage\": \"\", \"exceptionClass\": \"\", \"trace\": \"\"}}, \"*\")"
      ],
      "text/plain": [
       "<IPython.core.display.Javascript object>"
      ]
     },
     "metadata": {},
     "output_type": "display_data"
    },
    {
     "data": {
      "text/markdown": [
       "<span style=\"color:#33cc33\">Correct</span>"
      ],
      "text/plain": [
       "Correct"
      ]
     },
     "metadata": {},
     "output_type": "display_data"
    }
   ],
   "source": [
    "# TODO: Your code here!\n",
    "____\n",
    "matches = fuzzywuzzy.process.extract(\"usa\", countries, limit=10, scorer=fuzzywuzzy.fuzz.token_sort_ratio)\n",
    "replace_matches_in_column(df=professors, column='Country', string_to_match=\"usa\", min_ratio=70)\n",
    "\n",
    "# Check your answer\n",
    "q3.check()"
   ]
  },
  {
   "cell_type": "code",
   "execution_count": 11,
   "id": "c5958088",
   "metadata": {
    "execution": {
     "iopub.execute_input": "2022-05-03T12:11:00.944440Z",
     "iopub.status.busy": "2022-05-03T12:11:00.943527Z",
     "iopub.status.idle": "2022-05-03T12:11:00.947636Z",
     "shell.execute_reply": "2022-05-03T12:11:00.947064Z"
    },
    "papermill": {
     "duration": 0.031913,
     "end_time": "2022-05-03T12:11:00.949567",
     "exception": false,
     "start_time": "2022-05-03T12:11:00.917654",
     "status": "completed"
    },
    "tags": []
   },
   "outputs": [],
   "source": [
    "# Lines below will give you a hint or solution code\n",
    "#q3.hint()\n",
    "#q3.solution()"
   ]
  },
  {
   "cell_type": "markdown",
   "id": "39e28295",
   "metadata": {
    "papermill": {
     "duration": 0.023794,
     "end_time": "2022-05-03T12:11:00.997142",
     "exception": false,
     "start_time": "2022-05-03T12:11:00.973348",
     "status": "completed"
    },
    "tags": []
   },
   "source": [
    "# Congratulations!\n",
    "\n",
    "Congratulations for completing the **Data Cleaning** course on Kaggle Learn!\n",
    "\n",
    "To practice your new skills, you're encouraged to download and investigate some of [Kaggle's Datasets](https://www.kaggle.com/datasets)."
   ]
  },
  {
   "cell_type": "markdown",
   "id": "93cc6854",
   "metadata": {
    "papermill": {
     "duration": 0.024404,
     "end_time": "2022-05-03T12:11:01.045598",
     "exception": false,
     "start_time": "2022-05-03T12:11:01.021194",
     "status": "completed"
    },
    "tags": []
   },
   "source": [
    "---\n",
    "\n",
    "\n",
    "\n",
    "\n",
    "*Have questions or comments? Visit the [course discussion forum](https://www.kaggle.com/learn/data-cleaning/discussion) to chat with other learners.*"
   ]
  }
 ],
 "metadata": {
  "kernelspec": {
   "display_name": "Python 3",
   "language": "python",
   "name": "python3"
  },
  "language_info": {
   "codemirror_mode": {
    "name": "ipython",
    "version": 3
   },
   "file_extension": ".py",
   "mimetype": "text/x-python",
   "name": "python",
   "nbconvert_exporter": "python",
   "pygments_lexer": "ipython3",
   "version": "3.7.12"
  },
  "papermill": {
   "default_parameters": {},
   "duration": 12.008677,
   "end_time": "2022-05-03T12:11:01.795729",
   "environment_variables": {},
   "exception": null,
   "input_path": "__notebook__.ipynb",
   "output_path": "__notebook__.ipynb",
   "parameters": {},
   "start_time": "2022-05-03T12:10:49.787052",
   "version": "2.3.4"
  }
 },
 "nbformat": 4,
 "nbformat_minor": 5
}
