{
 "cells": [
  {
   "cell_type": "markdown",
   "id": "943a5bbc",
   "metadata": {
    "papermill": {
     "duration": 0.016995,
     "end_time": "2022-05-03T12:12:57.213921",
     "exception": false,
     "start_time": "2022-05-03T12:12:57.196926",
     "status": "completed"
    },
    "tags": []
   },
   "source": [
    "**This notebook is an exercise in the [Data Cleaning](https://www.kaggle.com/learn/data-cleaning) course.  You can reference the tutorial at [this link](https://www.kaggle.com/alexisbcook/inconsistent-data-entry).**\n",
    "\n",
    "---\n"
   ]
  },
  {
   "cell_type": "markdown",
   "id": "0b538f7e",
   "metadata": {
    "papermill": {
     "duration": 0.014341,
     "end_time": "2022-05-03T12:12:57.243583",
     "exception": false,
     "start_time": "2022-05-03T12:12:57.229242",
     "status": "completed"
    },
    "tags": []
   },
   "source": [
    "In this exercise, you'll apply what you learned in the **Inconsistent data entry** tutorial.\n",
    "\n",
    "# Setup\n",
    "\n",
    "The questions below will give you feedback on your work. Run the following cell to set up the feedback system."
   ]
  },
  {
   "cell_type": "code",
   "execution_count": 1,
   "id": "65be28f0",
   "metadata": {
    "execution": {
     "iopub.execute_input": "2022-05-03T12:12:57.276641Z",
     "iopub.status.busy": "2022-05-03T12:12:57.276118Z",
     "iopub.status.idle": "2022-05-03T12:12:57.412236Z",
     "shell.execute_reply": "2022-05-03T12:12:57.411023Z"
    },
    "papermill": {
     "duration": 0.156088,
     "end_time": "2022-05-03T12:12:57.415474",
     "exception": false,
     "start_time": "2022-05-03T12:12:57.259386",
     "status": "completed"
    },
    "tags": []
   },
   "outputs": [
    {
     "name": "stdout",
     "output_type": "stream",
     "text": [
      "Setup Complete\n"
     ]
    }
   ],
   "source": [
    "from learntools.core import binder\n",
    "binder.bind(globals())\n",
    "from learntools.data_cleaning.ex5 import *\n",
    "print(\"Setup Complete\")"
   ]
  },
  {
   "cell_type": "markdown",
   "id": "b192b232",
   "metadata": {
    "papermill": {
     "duration": 0.014682,
     "end_time": "2022-05-03T12:12:57.445603",
     "exception": false,
     "start_time": "2022-05-03T12:12:57.430921",
     "status": "completed"
    },
    "tags": []
   },
   "source": [
    "# Get our environment set up\n",
    "\n",
    "The first thing we'll need to do is load in the libraries and dataset we'll be using.  We use the same dataset from the tutorial."
   ]
  },
  {
   "cell_type": "code",
   "execution_count": 2,
   "id": "1dd29f58",
   "metadata": {
    "execution": {
     "iopub.execute_input": "2022-05-03T12:12:57.480057Z",
     "iopub.status.busy": "2022-05-03T12:12:57.479652Z",
     "iopub.status.idle": "2022-05-03T12:12:57.496854Z",
     "shell.execute_reply": "2022-05-03T12:12:57.495437Z"
    },
    "papermill": {
     "duration": 0.037574,
     "end_time": "2022-05-03T12:12:57.499469",
     "exception": false,
     "start_time": "2022-05-03T12:12:57.461895",
     "status": "completed"
    },
    "tags": []
   },
   "outputs": [],
   "source": [
    "# modules we'll use\n",
    "import pandas as pd\n",
    "import numpy as np\n",
    "\n",
    "# helpful modules\n",
    "import fuzzywuzzy\n",
    "from fuzzywuzzy import process\n",
    "import chardet\n",
    "\n",
    "# read in all our data\n",
    "professors = pd.read_csv(\"../input/pakistan-intellectual-capital/pakistan_intellectual_capital.csv\")\n",
    "\n",
    "# set seed for reproducibility\n",
    "np.random.seed(0)"
   ]
  },
  {
   "cell_type": "markdown",
   "id": "169a7ad2",
   "metadata": {
    "papermill": {
     "duration": 0.01561,
     "end_time": "2022-05-03T12:12:57.531669",
     "exception": false,
     "start_time": "2022-05-03T12:12:57.516059",
     "status": "completed"
    },
    "tags": []
   },
   "source": [
    "Next, we'll redo all of the work that we did in the tutorial."
   ]
  },
  {
   "cell_type": "code",
   "execution_count": 3,
   "id": "8aeab25c",
   "metadata": {
    "execution": {
     "iopub.execute_input": "2022-05-03T12:12:57.564454Z",
     "iopub.status.busy": "2022-05-03T12:12:57.564185Z",
     "iopub.status.idle": "2022-05-03T12:12:57.577788Z",
     "shell.execute_reply": "2022-05-03T12:12:57.577176Z"
    },
    "papermill": {
     "duration": 0.031431,
     "end_time": "2022-05-03T12:12:57.579842",
     "exception": false,
     "start_time": "2022-05-03T12:12:57.548411",
     "status": "completed"
    },
    "tags": []
   },
   "outputs": [
    {
     "name": "stdout",
     "output_type": "stream",
     "text": [
      "All done!\n"
     ]
    }
   ],
   "source": [
    "# convert to lower case\n",
    "professors['Country'] = professors['Country'].str.lower()\n",
    "# remove trailing white spaces\n",
    "professors['Country'] = professors['Country'].str.strip()\n",
    "\n",
    "# get the top 10 closest matches to \"south korea\"\n",
    "countries = professors['Country'].unique()\n",
    "matches = fuzzywuzzy.process.extract(\"south korea\", countries, limit=10, scorer=fuzzywuzzy.fuzz.token_sort_ratio)\n",
    "\n",
    "def replace_matches_in_column(df, column, string_to_match, min_ratio = 47):\n",
    "    # get a list of unique strings\n",
    "    strings = df[column].unique()\n",
    "    \n",
    "    # get the top 10 closest matches to our input string\n",
    "    matches = fuzzywuzzy.process.extract(string_to_match, strings, \n",
    "                                         limit=10, scorer=fuzzywuzzy.fuzz.token_sort_ratio)\n",
    "\n",
    "    # only get matches with a ratio > 90\n",
    "    close_matches = [matches[0] for matches in matches if matches[1] >= min_ratio]\n",
    "\n",
    "    # get the rows of all the close matches in our dataframe\n",
    "    rows_with_matches = df[column].isin(close_matches)\n",
    "\n",
    "    # replace all rows with close matches with the input matches \n",
    "    df.loc[rows_with_matches, column] = string_to_match\n",
    "    \n",
    "    # let us know the function's done\n",
    "    print(\"All done!\")\n",
    "    \n",
    "replace_matches_in_column(df=professors, column='Country', string_to_match=\"south korea\")\n",
    "countries = professors['Country'].unique()"
   ]
  },
  {
   "cell_type": "markdown",
   "id": "27ac6dbb",
   "metadata": {
    "papermill": {
     "duration": 0.015563,
     "end_time": "2022-05-03T12:12:57.610680",
     "exception": false,
     "start_time": "2022-05-03T12:12:57.595117",
     "status": "completed"
    },
    "tags": []
   },
   "source": [
    "# 1) Examine another column\n",
    "\n",
    "Write code below to take a look at all the unique values in the \"Graduated from\" column."
   ]
  },
  {
   "cell_type": "code",
   "execution_count": 4,
   "id": "3563d1d3",
   "metadata": {
    "execution": {
     "iopub.execute_input": "2022-05-03T12:12:57.644547Z",
     "iopub.status.busy": "2022-05-03T12:12:57.644151Z",
     "iopub.status.idle": "2022-05-03T12:12:57.648205Z",
     "shell.execute_reply": "2022-05-03T12:12:57.647577Z"
    },
    "papermill": {
     "duration": 0.022555,
     "end_time": "2022-05-03T12:12:57.649866",
     "exception": false,
     "start_time": "2022-05-03T12:12:57.627311",
     "status": "completed"
    },
    "tags": []
   },
   "outputs": [],
   "source": [
    "# TODO: Your code here\n",
    "unis = professors['Graduated from'].unique()"
   ]
  },
  {
   "cell_type": "markdown",
   "id": "f44cedc4",
   "metadata": {
    "papermill": {
     "duration": 0.017392,
     "end_time": "2022-05-03T12:12:57.682436",
     "exception": false,
     "start_time": "2022-05-03T12:12:57.665044",
     "status": "completed"
    },
    "tags": []
   },
   "source": [
    "Do you notice any inconsistencies in the data?  Can any of the inconsistencies in the data be fixed by removing white spaces at the beginning and end of cells?\n",
    "\n",
    "Once you have answered these questions, run the code cell below to get credit for your work."
   ]
  },
  {
   "cell_type": "code",
   "execution_count": 5,
   "id": "32a08c8a",
   "metadata": {
    "execution": {
     "iopub.execute_input": "2022-05-03T12:12:57.715673Z",
     "iopub.status.busy": "2022-05-03T12:12:57.714821Z",
     "iopub.status.idle": "2022-05-03T12:12:57.723762Z",
     "shell.execute_reply": "2022-05-03T12:12:57.723103Z"
    },
    "papermill": {
     "duration": 0.02825,
     "end_time": "2022-05-03T12:12:57.726522",
     "exception": false,
     "start_time": "2022-05-03T12:12:57.698272",
     "status": "completed"
    },
    "tags": []
   },
   "outputs": [
    {
     "data": {
      "application/javascript": [
       "parent.postMessage({\"jupyterEvent\": \"custom.exercise_interaction\", \"data\": {\"outcomeType\": 1, \"valueTowardsCompletion\": 0.3333333333333333, \"interactionType\": 1, \"questionType\": 4, \"questionId\": \"1_ExamineProvince\", \"learnToolsVersion\": \"0.3.4\", \"failureMessage\": \"\", \"exceptionClass\": \"\", \"trace\": \"\"}}, \"*\")"
      ],
      "text/plain": [
       "<IPython.core.display.Javascript object>"
      ]
     },
     "metadata": {},
     "output_type": "display_data"
    },
    {
     "data": {
      "text/markdown": [
       "<span style=\"color:#33cc33\">Correct:</span> \n",
       "\n",
       "There are inconsistencies that can be fixed by removing white spaces at the beginning and end of cells.  For instance, \"University of Central Florida\" and \" University of Central Florida\" both appear in the column."
      ],
      "text/plain": [
       "Correct: \n",
       "\n",
       "There are inconsistencies that can be fixed by removing white spaces at the beginning and end of cells.  For instance, \"University of Central Florida\" and \" University of Central Florida\" both appear in the column."
      ]
     },
     "metadata": {},
     "output_type": "display_data"
    }
   ],
   "source": [
    "# Check your answer (Run this code cell to receive credit!)\n",
    "q1.check()"
   ]
  },
  {
   "cell_type": "code",
   "execution_count": 6,
   "id": "0b5b79eb",
   "metadata": {
    "execution": {
     "iopub.execute_input": "2022-05-03T12:12:57.763193Z",
     "iopub.status.busy": "2022-05-03T12:12:57.762554Z",
     "iopub.status.idle": "2022-05-03T12:12:57.766085Z",
     "shell.execute_reply": "2022-05-03T12:12:57.765077Z"
    },
    "papermill": {
     "duration": 0.024376,
     "end_time": "2022-05-03T12:12:57.768100",
     "exception": false,
     "start_time": "2022-05-03T12:12:57.743724",
     "status": "completed"
    },
    "tags": []
   },
   "outputs": [],
   "source": [
    "# Line below will give you a hint\n",
    "#q1.hint()"
   ]
  },
  {
   "cell_type": "markdown",
   "id": "457dda54",
   "metadata": {
    "papermill": {
     "duration": 0.015496,
     "end_time": "2022-05-03T12:12:57.801594",
     "exception": false,
     "start_time": "2022-05-03T12:12:57.786098",
     "status": "completed"
    },
    "tags": []
   },
   "source": [
    "# 2) Do some text pre-processing\n",
    "\n",
    "Convert every entry in the \"Graduated from\" column in the `professors` DataFrame to remove white spaces at the beginning and end of cells."
   ]
  },
  {
   "cell_type": "code",
   "execution_count": 7,
   "id": "7e3edcac",
   "metadata": {
    "execution": {
     "iopub.execute_input": "2022-05-03T12:12:57.836015Z",
     "iopub.status.busy": "2022-05-03T12:12:57.835567Z",
     "iopub.status.idle": "2022-05-03T12:12:57.847043Z",
     "shell.execute_reply": "2022-05-03T12:12:57.846123Z"
    },
    "papermill": {
     "duration": 0.030768,
     "end_time": "2022-05-03T12:12:57.849086",
     "exception": false,
     "start_time": "2022-05-03T12:12:57.818318",
     "status": "completed"
    },
    "tags": []
   },
   "outputs": [
    {
     "data": {
      "application/javascript": [
       "parent.postMessage({\"jupyterEvent\": \"custom.exercise_interaction\", \"data\": {\"outcomeType\": 1, \"valueTowardsCompletion\": 0.3333333333333333, \"interactionType\": 1, \"questionType\": 1, \"questionId\": \"2_TextProcessing\", \"learnToolsVersion\": \"0.3.4\", \"failureMessage\": \"\", \"exceptionClass\": \"\", \"trace\": \"\"}}, \"*\")"
      ],
      "text/plain": [
       "<IPython.core.display.Javascript object>"
      ]
     },
     "metadata": {},
     "output_type": "display_data"
    },
    {
     "data": {
      "text/markdown": [
       "<span style=\"color:#33cc33\">Correct</span>"
      ],
      "text/plain": [
       "Correct"
      ]
     },
     "metadata": {},
     "output_type": "display_data"
    }
   ],
   "source": [
    "# TODO: Your code here\n",
    "____\n",
    "professors['Graduated from'] = professors['Graduated from'].str.strip()\n",
    "\n",
    "# Check your answer\n",
    "q2.check()"
   ]
  },
  {
   "cell_type": "code",
   "execution_count": 8,
   "id": "4c65ed44",
   "metadata": {
    "execution": {
     "iopub.execute_input": "2022-05-03T12:12:57.884101Z",
     "iopub.status.busy": "2022-05-03T12:12:57.883318Z",
     "iopub.status.idle": "2022-05-03T12:12:57.888029Z",
     "shell.execute_reply": "2022-05-03T12:12:57.887062Z"
    },
    "papermill": {
     "duration": 0.024449,
     "end_time": "2022-05-03T12:12:57.890203",
     "exception": false,
     "start_time": "2022-05-03T12:12:57.865754",
     "status": "completed"
    },
    "tags": []
   },
   "outputs": [],
   "source": [
    "# Lines below will give you a hint or solution code\n",
    "#q2.hint()\n",
    "#q2.solution()"
   ]
  },
  {
   "cell_type": "markdown",
   "id": "eed8cda1",
   "metadata": {
    "papermill": {
     "duration": 0.016379,
     "end_time": "2022-05-03T12:12:57.922945",
     "exception": false,
     "start_time": "2022-05-03T12:12:57.906566",
     "status": "completed"
    },
    "tags": []
   },
   "source": [
    "# 3) Continue working with countries\n",
    "\n",
    "In the tutorial, we focused on cleaning up inconsistencies in the \"Country\" column.  Run the code cell below to view the list of unique values that we ended with."
   ]
  },
  {
   "cell_type": "code",
   "execution_count": 9,
   "id": "4a94fa55",
   "metadata": {
    "execution": {
     "iopub.execute_input": "2022-05-03T12:12:57.957333Z",
     "iopub.status.busy": "2022-05-03T12:12:57.957050Z",
     "iopub.status.idle": "2022-05-03T12:12:57.963323Z",
     "shell.execute_reply": "2022-05-03T12:12:57.962719Z"
    },
    "papermill": {
     "duration": 0.025547,
     "end_time": "2022-05-03T12:12:57.965112",
     "exception": false,
     "start_time": "2022-05-03T12:12:57.939565",
     "status": "completed"
    },
    "tags": []
   },
   "outputs": [
    {
     "data": {
      "text/plain": [
       "array(['australia', 'austria', 'canada', 'china', 'finland', 'france',\n",
       "       'germany', 'greece', 'hongkong', 'ireland', 'italy', 'japan',\n",
       "       'macau', 'malaysia', 'mauritius', 'netherland', 'new zealand',\n",
       "       'norway', 'pakistan', 'portugal', 'russian federation',\n",
       "       'saudi arabia', 'scotland', 'singapore', 'south korea', 'spain',\n",
       "       'sweden', 'thailand', 'turkey', 'uk', 'urbana', 'usa', 'usofa'],\n",
       "      dtype=object)"
      ]
     },
     "execution_count": 9,
     "metadata": {},
     "output_type": "execute_result"
    }
   ],
   "source": [
    "# get all the unique values in the 'City' column\n",
    "countries = professors['Country'].unique()\n",
    "\n",
    "# sort them alphabetically and then take a closer look\n",
    "countries.sort()\n",
    "countries"
   ]
  },
  {
   "cell_type": "markdown",
   "id": "a85c73d2",
   "metadata": {
    "papermill": {
     "duration": 0.017015,
     "end_time": "2022-05-03T12:12:58.001015",
     "exception": false,
     "start_time": "2022-05-03T12:12:57.984000",
     "status": "completed"
    },
    "tags": []
   },
   "source": [
    "Take another look at the \"Country\" column and see if there's any more data cleaning we need to do.\n",
    "\n",
    "It looks like 'usa' and 'usofa' should be the same country.  Correct the \"Country\" column in the dataframe to replace 'usofa' with 'usa'.\n",
    "\n",
    "**Use the most recent version of the DataFrame (with the whitespaces at the beginning and end of cells removed) from question 2.**"
   ]
  },
  {
   "cell_type": "code",
   "execution_count": 10,
   "id": "f8954770",
   "metadata": {
    "execution": {
     "iopub.execute_input": "2022-05-03T12:12:58.035756Z",
     "iopub.status.busy": "2022-05-03T12:12:58.035253Z",
     "iopub.status.idle": "2022-05-03T12:12:58.048059Z",
     "shell.execute_reply": "2022-05-03T12:12:58.047184Z"
    },
    "papermill": {
     "duration": 0.032393,
     "end_time": "2022-05-03T12:12:58.050013",
     "exception": false,
     "start_time": "2022-05-03T12:12:58.017620",
     "status": "completed"
    },
    "tags": []
   },
   "outputs": [
    {
     "name": "stdout",
     "output_type": "stream",
     "text": [
      "All done!\n"
     ]
    },
    {
     "data": {
      "application/javascript": [
       "parent.postMessage({\"jupyterEvent\": \"custom.exercise_interaction\", \"data\": {\"outcomeType\": 1, \"valueTowardsCompletion\": 0.3333333333333333, \"interactionType\": 1, \"questionType\": 1, \"questionId\": \"3_WorkingWithCities\", \"learnToolsVersion\": \"0.3.4\", \"failureMessage\": \"\", \"exceptionClass\": \"\", \"trace\": \"\"}}, \"*\")"
      ],
      "text/plain": [
       "<IPython.core.display.Javascript object>"
      ]
     },
     "metadata": {},
     "output_type": "display_data"
    },
    {
     "data": {
      "text/markdown": [
       "<span style=\"color:#33cc33\">Correct</span>"
      ],
      "text/plain": [
       "Correct"
      ]
     },
     "metadata": {},
     "output_type": "display_data"
    }
   ],
   "source": [
    "# TODO: Your code here!\n",
    "____\n",
    "matches = fuzzywuzzy.process.extract(\"usa\", countries, limit=10, scorer=fuzzywuzzy.fuzz.token_sort_ratio)\n",
    "replace_matches_in_column(df=professors, column='Country', string_to_match=\"usa\", min_ratio=70)\n",
    "\n",
    "# Check your answer\n",
    "q3.check()"
   ]
  },
  {
   "cell_type": "code",
   "execution_count": 11,
   "id": "39716bb0",
   "metadata": {
    "execution": {
     "iopub.execute_input": "2022-05-03T12:12:58.089923Z",
     "iopub.status.busy": "2022-05-03T12:12:58.089352Z",
     "iopub.status.idle": "2022-05-03T12:12:58.092422Z",
     "shell.execute_reply": "2022-05-03T12:12:58.091803Z"
    },
    "papermill": {
     "duration": 0.024822,
     "end_time": "2022-05-03T12:12:58.094170",
     "exception": false,
     "start_time": "2022-05-03T12:12:58.069348",
     "status": "completed"
    },
    "tags": []
   },
   "outputs": [],
   "source": [
    "# Lines below will give you a hint or solution code\n",
    "#q3.hint()\n",
    "#q3.solution()"
   ]
  },
  {
   "cell_type": "markdown",
   "id": "7f304fdf",
   "metadata": {
    "papermill": {
     "duration": 0.017366,
     "end_time": "2022-05-03T12:12:58.130005",
     "exception": false,
     "start_time": "2022-05-03T12:12:58.112639",
     "status": "completed"
    },
    "tags": []
   },
   "source": [
    "# Congratulations!\n",
    "\n",
    "Congratulations for completing the **Data Cleaning** course on Kaggle Learn!\n",
    "\n",
    "To practice your new skills, you're encouraged to download and investigate some of [Kaggle's Datasets](https://www.kaggle.com/datasets)."
   ]
  },
  {
   "cell_type": "markdown",
   "id": "67aaa5fe",
   "metadata": {
    "papermill": {
     "duration": 0.017353,
     "end_time": "2022-05-03T12:12:58.165965",
     "exception": false,
     "start_time": "2022-05-03T12:12:58.148612",
     "status": "completed"
    },
    "tags": []
   },
   "source": [
    "---\n",
    "\n",
    "\n",
    "\n",
    "\n",
    "*Have questions or comments? Visit the [course discussion forum](https://www.kaggle.com/learn/data-cleaning/discussion) to chat with other learners.*"
   ]
  }
 ],
 "metadata": {
  "kernelspec": {
   "display_name": "Python 3",
   "language": "python",
   "name": "python3"
  },
  "language_info": {
   "codemirror_mode": {
    "name": "ipython",
    "version": 3
   },
   "file_extension": ".py",
   "mimetype": "text/x-python",
   "name": "python",
   "nbconvert_exporter": "python",
   "pygments_lexer": "ipython3",
   "version": "3.7.12"
  },
  "papermill": {
   "default_parameters": {},
   "duration": 12.260645,
   "end_time": "2022-05-03T12:12:58.907948",
   "environment_variables": {},
   "exception": null,
   "input_path": "__notebook__.ipynb",
   "output_path": "__notebook__.ipynb",
   "parameters": {},
   "start_time": "2022-05-03T12:12:46.647303",
   "version": "2.3.4"
  }
 },
 "nbformat": 4,
 "nbformat_minor": 5
}
